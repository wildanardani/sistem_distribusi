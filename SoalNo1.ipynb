{
  "nbformat": 4,
  "nbformat_minor": 0,
  "metadata": {
    "colab": {
      "provenance": [],
      "authorship_tag": "ABX9TyOBTxwM32WfNUTgs+OTQ2lD",
      "include_colab_link": true
    },
    "kernelspec": {
      "name": "python3",
      "display_name": "Python 3"
    },
    "language_info": {
      "name": "python"
    }
  },
  "cells": [
    {
      "cell_type": "markdown",
      "metadata": {
        "id": "view-in-github",
        "colab_type": "text"
      },
      "source": [
        "<a href=\"https://colab.research.google.com/github/RizalAkbarFitrianto/UTS_Sistem_Terdistribusi/blob/main/SoalNo1.ipynb\" target=\"_parent\"><img src=\"https://colab.research.google.com/assets/colab-badge.svg\" alt=\"Open In Colab\"/></a>"
      ]
    },
    {
      "cell_type": "code",
      "execution_count": 1,
      "metadata": {
        "id": "kHyGKHCj1F7o"
      },
      "outputs": [],
      "source": [
        "#!/bin/python3\n",
        "\n",
        "import math\n",
        "import os\n",
        "import random\n",
        "import re\n",
        "import sys"
      ]
    },
    {
      "cell_type": "code",
      "source": [
        "if __name__ == '__main__':\n",
        "    n = int(input().strip())\n",
        "\n",
        "    if n%2 != 0:\n",
        "        print(\"Weird\")\n",
        "    elif n%2 == 0 and n>2 and n<=5:\n",
        "        print(\"Not Weird\")\n",
        "    elif n%2 ==0 and n > 6 and n <=20:\n",
        "        print(\"Weird\")\n",
        "    else:\n",
        "        print(\"Not Weird\")"
      ],
      "metadata": {
        "colab": {
          "base_uri": "https://localhost:8080/"
        },
        "id": "rWnlAfV-1c2d",
        "outputId": "4ebfba0f-c4e3-43b2-c848-14b0b5d28826"
      },
      "execution_count": 4,
      "outputs": [
        {
          "output_type": "stream",
          "name": "stdout",
          "text": [
            "21\n",
            "Weird\n"
          ]
        }
      ]
    }
  ]
}